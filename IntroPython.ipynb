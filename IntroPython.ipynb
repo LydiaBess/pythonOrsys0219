{
 "cells": [
  {
   "cell_type": "code",
   "execution_count": 1,
   "metadata": {},
   "outputs": [
    {
     "name": "stdout",
     "output_type": "stream",
     "text": [
      "3\n"
     ]
    }
   ],
   "source": [
    "a = 3\n",
    "print(a)"
   ]
  },
  {
   "cell_type": "markdown",
   "metadata": {},
   "source": [
    "## Ceci est un titre\n",
    "\n",
    "Bonjour tout le monde"
   ]
  },
  {
   "cell_type": "code",
   "execution_count": 4,
   "metadata": {},
   "outputs": [
    {
     "name": "stdout",
     "output_type": "stream",
     "text": [
      "J'ai 40 ans\n"
     ]
    }
   ],
   "source": [
    "print(\"J'ai \" + str(40) + \" ans\")"
   ]
  },
  {
   "cell_type": "code",
   "execution_count": 5,
   "metadata": {},
   "outputs": [
    {
     "data": {
      "text/plain": [
       "'\\nCeci est une\\ndocstring\\nJe peux ecrire sur plusieurs ligne\\n'"
      ]
     },
     "execution_count": 5,
     "metadata": {},
     "output_type": "execute_result"
    }
   ],
   "source": [
    "# Ceci est un commentaire\n",
    "\n",
    "\"\"\"\n",
    "Ceci est une\n",
    "docstring\n",
    "Je peux ecrire sur plusieurs ligne\n",
    "\"\"\"\n",
    "\n"
   ]
  },
  {
   "cell_type": "code",
   "execution_count": 7,
   "metadata": {},
   "outputs": [
    {
     "name": "stdout",
     "output_type": "stream",
     "text": [
      "6\n"
     ]
    }
   ],
   "source": [
    "a = 4\n",
    "b = 6\n",
    "a = b\n",
    "b = 7\n",
    "print(a)\n",
    "\n"
   ]
  },
  {
   "cell_type": "code",
   "execution_count": 14,
   "metadata": {},
   "outputs": [
    {
     "name": "stdout",
     "output_type": "stream",
     "text": [
      "True\n",
      "4\n",
      "<class 'float'>\n"
     ]
    }
   ],
   "source": [
    "a = 2.4\n",
    "\n",
    "b  =\"Bonjour\"\n",
    "\n",
    "c = True\n",
    "\n",
    "d = None\n",
    "\n",
    "liste = [2,4,6,7]\n",
    "\n",
    "ma_liste = [ 2, True, \"Bonjour\", 5]\n",
    "\n",
    "print( ma_liste[1])\n",
    "\n",
    "print(len(ma_liste))\n",
    "\n",
    "print(type(a))"
   ]
  },
  {
   "cell_type": "code",
   "execution_count": 20,
   "metadata": {},
   "outputs": [
    {
     "name": "stdout",
     "output_type": "stream",
     "text": [
      "J'ai 42 ans\n"
     ]
    }
   ],
   "source": [
    "a = 4 + 6\n",
    "a = 4 + int(\"6\")\n",
    "\n",
    "age = 42\n",
    "ma_chaine = \"J'ai \" + str(age) + \" ans\"\n",
    "print(ma_chaine)"
   ]
  },
  {
   "cell_type": "code",
   "execution_count": 23,
   "metadata": {},
   "outputs": [
    {
     "name": "stdout",
     "output_type": "stream",
     "text": [
      "BOLNET\n",
      "Mickael\n"
     ]
    }
   ],
   "source": [
    "dico = {\"nom\": \"BOLNET\", \"prenom\": \"Mickael\", \"age\" : 32}\n",
    "\n",
    "print(dico['nom'])\n",
    "print(dico['prenom'])"
   ]
  },
  {
   "cell_type": "code",
   "execution_count": 24,
   "metadata": {},
   "outputs": [],
   "source": [
    "dico = {True : \"Hello\", 4 : [32,34,31], \"classe\": {\"nom\" : \"CM2\", \"taille\": 32}}"
   ]
  },
  {
   "cell_type": "code",
   "execution_count": 29,
   "metadata": {},
   "outputs": [
    {
     "name": "stdout",
     "output_type": "stream",
     "text": [
      "{True: 'Hello', 4: [32, 34, 31], 'classe': {'nom': 'CM2', 'taille': 32}}\n"
     ]
    }
   ],
   "source": [
    "print(dico[\"classe\"][\"taille\"])"
   ]
  },
  {
   "cell_type": "code",
   "execution_count": 30,
   "metadata": {},
   "outputs": [
    {
     "name": "stdout",
     "output_type": "stream",
     "text": [
      "dico\n",
      "{True: 'Hello', 4: [32, 34, 31], 'classe': {'nom': 'CM2', 'taille': 32}}\n"
     ]
    }
   ],
   "source": [
    "print(\"dico\")\n",
    "print(dico)"
   ]
  },
  {
   "cell_type": "code",
   "execution_count": 32,
   "metadata": {},
   "outputs": [
    {
     "name": "stdout",
     "output_type": "stream",
     "text": [
      "['Bonjour', 'Bonjour', 'Bonjour', 'Bonjour', 'Bonjour']\n"
     ]
    }
   ],
   "source": [
    "print([\"Bonjour\"]*5)"
   ]
  },
  {
   "cell_type": "code",
   "execution_count": 33,
   "metadata": {},
   "outputs": [
    {
     "name": "stdout",
     "output_type": "stream",
     "text": [
      "(3, 4)\n"
     ]
    }
   ],
   "source": [
    "position = (3,4)\n",
    "print(position)"
   ]
  },
  {
   "cell_type": "code",
   "execution_count": 35,
   "metadata": {},
   "outputs": [],
   "source": [
    "position = (4,4)"
   ]
  },
  {
   "cell_type": "code",
   "execution_count": 44,
   "metadata": {},
   "outputs": [
    {
     "name": "stdout",
     "output_type": "stream",
     "text": [
      "[3, 4, 5, 1, 9]\n",
      "[5, 1, 9, 0]\n",
      "[3, 5, 9, 14, 5]\n",
      "[7, 0, 1, 4]\n"
     ]
    }
   ],
   "source": [
    "ma_liste = [3,4,5,1,9,0,14,7,5]\n",
    "\n",
    "# 1 - Du premier au 5e\n",
    "print(ma_liste[:5])\n",
    "# 2 - Du 3e au 6e\n",
    "print(ma_liste[2:6])\n",
    "# 3 - Un élément sur 2\n",
    "print(ma_liste[::2])\n",
    "# 4 - De l'avant dernier au 2e avec un pas de 2\n",
    "print(ma_liste[-2:0:-2])"
   ]
  },
  {
   "cell_type": "code",
   "execution_count": 51,
   "metadata": {},
   "outputs": [
    {
     "name": "stdout",
     "output_type": "stream",
     "text": [
      "Quel est votre nom ?Mickael\n",
      "Quel es tvotre age ? 28\n"
     ]
    }
   ],
   "source": [
    "name = input(\"Quel est votre nom ?\")\n",
    "age = int(input(\"Quel es tvotre age ? \"))"
   ]
  },
  {
   "cell_type": "code",
   "execution_count": 52,
   "metadata": {},
   "outputs": [
    {
     "name": "stdout",
     "output_type": "stream",
     "text": [
      "Je m'appelle Mickael et j'ai 28 ans\n"
     ]
    }
   ],
   "source": [
    "print(\"Je m'appelle %s et j'ai %d ans.\"%(name, age))"
   ]
  },
  {
   "cell_type": "code",
   "execution_count": 54,
   "metadata": {},
   "outputs": [
    {
     "name": "stdout",
     "output_type": "stream",
     "text": [
      "Je m'appelle ['Mickael', 'Lydia'] et j'ai 28 ans. Vous avez aussi 28 ans ?\n"
     ]
    }
   ],
   "source": [
    "print(\"Je m'appelle %(nom)s et j'ai %(age)d ans. Vous avez aussi %(age)d ans ?\"%{\"nom\" : [\"Mickael\", \"Lydia\"], \"age\" : age})"
   ]
  },
  {
   "cell_type": "code",
   "execution_count": 56,
   "metadata": {},
   "outputs": [
    {
     "name": "stdout",
     "output_type": "stream",
     "text": [
      "Hors de la branche\n"
     ]
    }
   ],
   "source": [
    "a = 3\n",
    "\n",
    "if a % 2 == 0 :\n",
    "    print(\"Pair\")\n",
    "    print(\"Encore dans la branche\")\n",
    "print(\"Hors de la branche\")    \n"
   ]
  },
  {
   "cell_type": "code",
   "execution_count": 61,
   "metadata": {},
   "outputs": [
    {
     "name": "stdout",
     "output_type": "stream",
     "text": [
      "Quel est votre nom ?Laeticia\n",
      "Quel est votre age ? 34\n",
      "H / F ?F\n",
      "Laeticia est Majeure\n"
     ]
    }
   ],
   "source": [
    "# Afficher [nom] est majeur  mineur en fonction de son age\n",
    "name = input(\"Quel est votre nom ?\")\n",
    "age = int(input(\"Quel est votre age ? \"))\n",
    "genre = input(\"H / F ?\")\n",
    "\n",
    "genre = \"e\" if genre == \"F\" else \"\"\n",
    "if age >= 18:\n",
    "    print(\"%s est Majeur%s\"%(name, genre))\n",
    "else:\n",
    "    print(\"%s est Mineur%s\"%(name, genre))"
   ]
  },
  {
   "cell_type": "code",
   "execution_count": 60,
   "metadata": {},
   "outputs": [
    {
     "name": "stdout",
     "output_type": "stream",
     "text": [
      "Mickael est mineur\n"
     ]
    }
   ],
   "source": [
    "print( (\"%s est \"%name) + (\"majeur\" if age >= 18 else \"mineur\") )"
   ]
  },
  {
   "cell_type": "code",
   "execution_count": 63,
   "metadata": {},
   "outputs": [
    {
     "name": "stdout",
     "output_type": "stream",
     "text": [
      "1\n",
      "2\n",
      "3\n",
      "4\n",
      "5\n",
      "6\n",
      "7\n",
      "8\n",
      "9\n",
      "10\n"
     ]
    }
   ],
   "source": [
    "i = 0 \n",
    "\n",
    "while i < 10:\n",
    "    i += 1\n",
    "    print(i)\n",
    "    "
   ]
  },
  {
   "cell_type": "code",
   "execution_count": 65,
   "metadata": {},
   "outputs": [
    {
     "name": "stdout",
     "output_type": "stream",
     "text": [
      "1\n",
      "8\n",
      "12\n",
      "True\n",
      "[143, False]\n"
     ]
    }
   ],
   "source": [
    "for i in [1 , 8 , 12, True, [143, False]]:\n",
    "    print(i)"
   ]
  },
  {
   "cell_type": "code",
   "execution_count": 67,
   "metadata": {},
   "outputs": [
    {
     "name": "stdout",
     "output_type": "stream",
     "text": [
      "0\n",
      "1\n",
      "2\n",
      "3\n",
      "4\n",
      "5\n",
      "6\n",
      "7\n",
      "8\n",
      "9\n"
     ]
    }
   ],
   "source": [
    "for i in range(10):\n",
    "    print(i)"
   ]
  },
  {
   "cell_type": "code",
   "execution_count": 69,
   "metadata": {},
   "outputs": [
    {
     "name": "stdout",
     "output_type": "stream",
     "text": [
      "[0, 1, 2, 3, 4, 5, 6, 7, 8, 9]\n"
     ]
    }
   ],
   "source": [
    "print([i for i in range(10)])"
   ]
  },
  {
   "cell_type": "code",
   "execution_count": 87,
   "metadata": {},
   "outputs": [
    {
     "name": "stdout",
     "output_type": "stream",
     "text": [
      "[4, 10, 6, 14, 16]\n"
     ]
    }
   ],
   "source": [
    "ma_liste = [2,5,3,7,8]\n",
    "liste_fois2 = [2*elm for elm in ma_liste]\n",
    "print(liste_fois2)"
   ]
  },
  {
   "cell_type": "code",
   "execution_count": 77,
   "metadata": {},
   "outputs": [],
   "source": [
    "# Comprehensive list avec un filtre\n",
    "print([elm for elm in ma_liste if elm < 5])\n",
    "# Comprehensive list avec une ternaire\n",
    "print([('pair' if elm % 2 == 0 else 'impair') for elm in ma_liste])\n"
   ]
  },
  {
   "cell_type": "code",
   "execution_count": 78,
   "metadata": {},
   "outputs": [
    {
     "name": "stdout",
     "output_type": "stream",
     "text": [
      "[2, 3]\n"
     ]
    }
   ],
   "source": [
    "print(liste_parite)"
   ]
  },
  {
   "cell_type": "code",
   "execution_count": 88,
   "metadata": {},
   "outputs": [
    {
     "name": "stdout",
     "output_type": "stream",
     "text": [
      "['mineur', 'Ella']\n"
     ]
    }
   ],
   "source": [
    "liste_personnes = [\n",
    "    {\"nom\": \"Georges\", \"age\": 56},\n",
    "    {\"nom\": \"Helene\", \"age\": 63},\n",
    "    {\"nom\": \"Mathieu\", \"age\": 42},\n",
    "    {\"nom\": \"Lola\", \"age\": 16},\n",
    "    {\"nom\": \"Ella\", \"age\": 26}\n",
    "]\n",
    "\n",
    "# Afficher le nom de tout ceux qui ont moins de trente ans\n",
    "print( [personne[\"nom\"] if personne[\"age\"] >18 else \"mineur\" for personne in liste_personnes if personne[\"age\"] < 30] )"
   ]
  },
  {
   "cell_type": "code",
   "execution_count": 86,
   "metadata": {},
   "outputs": [
    {
     "name": "stdout",
     "output_type": "stream",
     "text": [
      "Georges\n",
      "Helene\n",
      "Mathieu\n",
      "Lola\n",
      "Ella\n"
     ]
    }
   ],
   "source": [
    "for i in liste_personnes:\n",
    "    print(i[\"nom\"])"
   ]
  },
  {
   "cell_type": "code",
   "execution_count": 105,
   "metadata": {},
   "outputs": [
    {
     "name": "stdout",
     "output_type": "stream",
     "text": [
      "[0, 1, 2, 3, 4, 5, 6, 7, 8, 9, 10, 11, 12, 13, 14, 15, 16, 17, 18, 19]\n"
     ]
    }
   ],
   "source": [
    "# Fizz Buzz : \n",
    "# Tous les multiples de 3 sont remplacés par \"fizz\"\n",
    "# Tous les multiples de 5 sont remplacés par \"buzz\" \n",
    "# Tous les multiples de 3 et 5 sont remplacés par \"bazz\" \n",
    "# Affiche : 1 2 fizz 4 buzz ...\n",
    "liste_resultat = [i for i in range(20)]\n",
    "print(liste_resultat)\n",
    "\n",
    "for i  in range(len(liste_resultat)):\n",
    "    if i == 0:\n",
    "        continue\n",
    "    if liste_resultat[i] % 3 == 0 and liste_resultat[i] % 5 == 0 :\n",
    "        liste_resultat[i] = \"bazz\"\n",
    "    elif liste_resultat[i] % 3 == 0 :\n",
    "        liste_resultat[i] = \"fizz\"\n",
    "    elif liste_resultat[i] % 5 == 0 :\n",
    "        liste_resultat[i] = \"buzz\"\n"
   ]
  },
  {
   "cell_type": "code",
   "execution_count": 106,
   "metadata": {},
   "outputs": [
    {
     "name": "stdout",
     "output_type": "stream",
     "text": [
      "[0, 1, 2, 'fizz', 4, 'buzz', 'fizz', 7, 8, 'fizz', 'buzz', 11, 'fizz', 13, 14, 'bazz', 16, 17, 'fizz', 19]\n"
     ]
    }
   ],
   "source": [
    "print(liste_resultat)"
   ]
  },
  {
   "cell_type": "code",
   "execution_count": 99,
   "metadata": {},
   "outputs": [
    {
     "name": "stdout",
     "output_type": "stream",
     "text": [
      "15 - 10\n",
      "16 - 11\n",
      "17 - 12\n",
      "18 - 13\n",
      "19 - 14\n",
      "20 - 15\n",
      "21 - 16\n",
      "22 - 17\n",
      "23 - 18\n",
      "24 - 19\n",
      "25 - 20\n",
      "26 - 21\n",
      "27 - 22\n",
      "28 - 23\n",
      "29 - 24\n",
      "30 - 25\n",
      "31 - 26\n",
      "32 - 27\n",
      "33 - 28\n",
      "34 - 29\n",
      "35 - 30\n",
      "36 - 31\n",
      "37 - 32\n",
      "38 - 33\n",
      "39 - 34\n"
     ]
    }
   ],
   "source": [
    "\n",
    "for i,j in zip(range(15,40), range(10,35)):\n",
    "    print(\"%d - %d\"%(i,j))"
   ]
  },
  {
   "cell_type": "code",
   "execution_count": 101,
   "metadata": {},
   "outputs": [
    {
     "name": "stdout",
     "output_type": "stream",
     "text": [
      "15 - 10\n",
      "15 - 11\n",
      "15 - 12\n",
      "15 - 13\n",
      "15 - 14\n",
      "16 - 10\n",
      "16 - 11\n",
      "16 - 12\n",
      "16 - 13\n",
      "16 - 14\n",
      "17 - 10\n",
      "17 - 11\n",
      "17 - 12\n",
      "17 - 13\n",
      "17 - 14\n",
      "18 - 10\n",
      "18 - 11\n",
      "18 - 12\n",
      "18 - 13\n",
      "18 - 14\n",
      "19 - 10\n",
      "19 - 11\n",
      "19 - 12\n",
      "19 - 13\n",
      "19 - 14\n"
     ]
    }
   ],
   "source": [
    "from itertools import product\n",
    "\n",
    "for i,j in product(range(15,20), range(10,15)):\n",
    "    print(\"%d - %d\"%(i,j))"
   ]
  },
  {
   "cell_type": "code",
   "execution_count": 103,
   "metadata": {},
   "outputs": [
    {
     "name": "stdout",
     "output_type": "stream",
     "text": [
      "[1, 2, 4, 5, 8]\n"
     ]
    }
   ],
   "source": [
    "ma_liste = [ 8, 4, 2, 5, 1]\n",
    "for j in range(len(ma_liste)-1):\n",
    "    for i in range(len(ma_liste)-1):\n",
    "        if ma_liste[i+1] < ma_liste[i]:\n",
    "            a= ma_liste[i+1]\n",
    "            ma_liste[i+1] = ma_liste[i]\n",
    "            ma_liste[i] = a\n",
    "        \n",
    "print(ma_liste)"
   ]
  },
  {
   "cell_type": "code",
   "execution_count": 104,
   "metadata": {},
   "outputs": [
    {
     "name": "stdout",
     "output_type": "stream",
     "text": [
      "[1, 2, 4, 5, 8]\n"
     ]
    }
   ],
   "source": [
    "ma_liste = [ 8, 4, 2, 5, 1]\n",
    "for j in range(len(ma_liste)-1):\n",
    "    for i in range(len(ma_liste)-1):\n",
    "        if ma_liste[i+1] < ma_liste[i]:\n",
    "            ma_liste[i:i+2] = ma_liste[i:i+2][::-1]\n",
    "        \n",
    "print(ma_liste)"
   ]
  },
  {
   "cell_type": "code",
   "execution_count": 112,
   "metadata": {},
   "outputs": [
    {
     "data": {
      "text/plain": [
       "24"
      ]
     },
     "execution_count": 112,
     "metadata": {},
     "output_type": "execute_result"
    }
   ],
   "source": [
    "a = 5\n",
    "def mul(a,b):\n",
    "    return a * b\n",
    "\n",
    "mul(12, 2)"
   ]
  },
  {
   "cell_type": "code",
   "execution_count": 135,
   "metadata": {},
   "outputs": [
    {
     "name": "stdout",
     "output_type": "stream",
     "text": [
      "Bonjour !!\n",
      "(6, 4)\n",
      "4\n",
      "16\n"
     ]
    }
   ],
   "source": [
    "def principale(a,b):\n",
    "    print(b)\n",
    "    print(a(b))\n",
    "    \n",
    "def sec1(a):\n",
    "    print(a)\n",
    "    return 4\n",
    "    \n",
    "def sec2(a=4):\n",
    "    print(\"Bonjour !!\")\n",
    "    return 6,4\n",
    "\n",
    "print(sec2())\n",
    "\n",
    "principale(lambda x:x*4, 4)"
   ]
  },
  {
   "cell_type": "code",
   "execution_count": 129,
   "metadata": {},
   "outputs": [
    {
     "name": "stdout",
     "output_type": "stream",
     "text": [
      "2\n",
      "Bonjour Mylenne\n",
      "Bonjour Robin\n",
      "Bonjour Eloise\n",
      "2\n"
     ]
    }
   ],
   "source": [
    "a = 15\n",
    "def dire_bonjour(name, name1=\"Baptiste\", name2=\"Eloise\"):\n",
    "    \"\"\"\n",
    "    Ma fonction pour dire bonjour\n",
    "    \"\"\"\n",
    "    global a\n",
    "    a = 2\n",
    "    print(a)\n",
    "    print(\"Bonjour \"+ name)\n",
    "    print(\"Bonjour \"+ name1)\n",
    "    print(\"Bonjour \"+ name2)\n",
    "    \n",
    "a = 14\n",
    "dire_bonjour(\"Mylenne\", \"Robin\")\n",
    "print(a)\n",
    "# dire_bonjour(\"Mylenne\", name2=\"Robin\")"
   ]
  },
  {
   "cell_type": "code",
   "execution_count": 136,
   "metadata": {},
   "outputs": [
    {
     "name": "stdout",
     "output_type": "stream",
     "text": [
      "2\n",
      "4\n",
      "6\n"
     ]
    }
   ],
   "source": [
    "def every_other(a,b):\n",
    "    while a<b:\n",
    "        yield a\n",
    "        a +=2\n",
    "        \n",
    "for i in every_other(2,8):\n",
    "    print(i)"
   ]
  },
  {
   "cell_type": "code",
   "execution_count": 147,
   "metadata": {},
   "outputs": [
    {
     "ename": "TypeError",
     "evalue": "'int' object is not iterable",
     "output_type": "error",
     "traceback": [
      "\u001b[1;31m---------------------------------------------------------------------------\u001b[0m",
      "\u001b[1;31mTypeError\u001b[0m                                 Traceback (most recent call last)",
      "\u001b[1;32m<ipython-input-147-57ecc4294214>\u001b[0m in \u001b[0;36m<module>\u001b[1;34m()\u001b[0m\n\u001b[0;32m     17\u001b[0m         \u001b[0ma\u001b[0m \u001b[1;33m+=\u001b[0m \u001b[1;36m1\u001b[0m\u001b[1;33m\u001b[0m\u001b[0m\n\u001b[0;32m     18\u001b[0m \u001b[1;33m\u001b[0m\u001b[0m\n\u001b[1;32m---> 19\u001b[1;33m \u001b[1;32mfor\u001b[0m \u001b[0mi\u001b[0m \u001b[1;32min\u001b[0m \u001b[0mprime\u001b[0m\u001b[1;33m(\u001b[0m\u001b[1;36m4\u001b[0m\u001b[1;33m,\u001b[0m\u001b[1;36m21\u001b[0m\u001b[1;33m)\u001b[0m\u001b[1;33m:\u001b[0m\u001b[1;33m\u001b[0m\u001b[0m\n\u001b[0m\u001b[0;32m     20\u001b[0m     \u001b[0mprint\u001b[0m\u001b[1;33m(\u001b[0m\u001b[0mi\u001b[0m\u001b[1;33m)\u001b[0m\u001b[1;33m\u001b[0m\u001b[0m\n",
      "\u001b[1;31mTypeError\u001b[0m: 'int' object is not iterable"
     ]
    }
   ],
   "source": [
    "import numpy as np\n",
    "\n",
    "def prime(debut, fin):\n",
    "    a = debut\n",
    "    while a < fin:\n",
    "        # check if a is prime\n",
    "        a_is_prime = True\n",
    "        for i in range(2,int(np.sqrt(a))+1):\n",
    "            if a % i == 0:\n",
    "                a_is_prime = False\n",
    "                \n",
    "        # if True yield a\n",
    "        if a_is_prime:\n",
    "            yield a\n",
    "            \n",
    "        # then a += 1\n",
    "        a += 1\n",
    "        \n",
    "for i in prime(4,21):\n",
    "    print(i)"
   ]
  },
  {
   "cell_type": "code",
   "execution_count": 139,
   "metadata": {},
   "outputs": [
    {
     "ename": "NameError",
     "evalue": "name 'sqt' is not defined",
     "output_type": "error",
     "traceback": [
      "\u001b[1;31m---------------------------------------------------------------------------\u001b[0m",
      "\u001b[1;31mNameError\u001b[0m                                 Traceback (most recent call last)",
      "\u001b[1;32m<ipython-input-139-a096154ea9e8>\u001b[0m in \u001b[0;36m<module>\u001b[1;34m()\u001b[0m\n\u001b[1;32m----> 1\u001b[1;33m \u001b[0mhelp\u001b[0m\u001b[1;33m(\u001b[0m\u001b[0msqt\u001b[0m\u001b[1;33m)\u001b[0m\u001b[1;33m\u001b[0m\u001b[0m\n\u001b[0m",
      "\u001b[1;31mNameError\u001b[0m: name 'sqt' is not defined"
     ]
    }
   ],
   "source": [
    "help(sqt)"
   ]
  },
  {
   "cell_type": "code",
   "execution_count": 144,
   "metadata": {},
   "outputs": [
    {
     "data": {
      "text/plain": [
       "3"
      ]
     },
     "execution_count": 144,
     "metadata": {},
     "output_type": "execute_result"
    }
   ],
   "source": [
    "int(np.sqrt(12))"
   ]
  },
  {
   "cell_type": "code",
   "execution_count": 174,
   "metadata": {},
   "outputs": [
    {
     "name": "stdout",
     "output_type": "stream",
     "text": [
      "['GRiS', 'GROS']\n"
     ]
    }
   ],
   "source": [
    "import re\n",
    "\n",
    "print(re.findall(\"(GR[^aA]S)\", \"le temps est GRiS. J'ai mangé comme un GROS. C'était bien GRaS\"))"
   ]
  },
  {
   "cell_type": "code",
   "execution_count": null,
   "metadata": {},
   "outputs": [],
   "source": [
    "# Je m'appelle {{ nom }} {{ prenom }}\n"
   ]
  }
 ],
 "metadata": {
  "kernelspec": {
   "display_name": "Python 3",
   "language": "python",
   "name": "python3"
  },
  "language_info": {
   "codemirror_mode": {
    "name": "ipython",
    "version": 3
   },
   "file_extension": ".py",
   "mimetype": "text/x-python",
   "name": "python",
   "nbconvert_exporter": "python",
   "pygments_lexer": "ipython3",
   "version": "3.6.5"
  }
 },
 "nbformat": 4,
 "nbformat_minor": 2
}
